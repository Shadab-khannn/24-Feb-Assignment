{
 "cells": [
  {
   "cell_type": "code",
   "execution_count": null,
   "id": "7ab8b923-d170-4f83-9b65-c09db11df192",
   "metadata": {},
   "outputs": [],
   "source": [
    "Q1. List any five functions of the pandas library with execution."
   ]
  },
  {
   "cell_type": "code",
   "execution_count": null,
   "id": "46621751-6177-4eae-9557-ef866e5fb828",
   "metadata": {},
   "outputs": [],
   "source": [
    "ANS - "
   ]
  },
  {
   "cell_type": "code",
   "execution_count": null,
   "id": "437e815b-d970-4660-9e6e-da21da5b98e1",
   "metadata": {},
   "outputs": [],
   "source": [
    "1 . Value_Counts() :\n",
    "                    Pandas Value_Counts() function is used to show the counts of all unique elements in\n",
    "        columns of a dataframe.\n",
    "        \n",
    "2 . Group_by() :\n",
    "                With Pandas group_by, We can split and group our dataframe by certain columns to be able\n",
    "        to view patterns and details in the data. Group_by involves 3 main steps:\n",
    "            - Splitting , Applying and Combining.\n",
    "            \n",
    "3 . loc and iloc :\n",
    "                  Indexing in pandas is one of the most basic operations and the best ways to do is using\n",
    "        either loc or iloc. Loc stands for location and the i stands for indexed locations. In other words,\n",
    "        when you want to index a dataframe using names or labels of columns/rows, you use loc. And when you \n",
    "        want to index columns or rows using the positions you use the iloc function.\n",
    "        \n",
    "4 . Unique() and nunique() :\n",
    "                            Pandas unique is used to get all the uniques value from any feature. This is mostly used to get the \n",
    "        categorical in categorical features in the data. Unique shows all the unique values including NaNas. it treats it as a \n",
    "        different unique values.\n",
    "        \n",
    "5 . cut() and equal() :\n",
    "                      Pandas cut it used to bin values in ranges in order to discretize the features. lets dive down to it. \n",
    "        Binning means coverting a numerical or continuous feature into a discrete set a values based on the ranges of the continous\n",
    "        values This comes in handy when you want to see the trends based on what range the data point falls in."
   ]
  },
  {
   "cell_type": "code",
   "execution_count": null,
   "id": "67c83369-d8a4-41cb-84ee-52d823390d83",
   "metadata": {},
   "outputs": [],
   "source": []
  },
  {
   "cell_type": "code",
   "execution_count": null,
   "id": "8238300c-3099-4eb0-906a-75fafad1475b",
   "metadata": {},
   "outputs": [],
   "source": [
    "Q2. Given a Pandas DataFrame df with columns 'A', 'B', and 'C', write a Python function to re-index the\n",
    "DataFrame with a new index that starts from 1 and increments by 2 for each row."
   ]
  },
  {
   "cell_type": "markdown",
   "id": "e1b05ceb-87bd-479d-839b-7dba12ee4b8b",
   "metadata": {},
   "source": [
    "ANS - "
   ]
  },
  {
   "cell_type": "code",
   "execution_count": 1,
   "id": "6300a49d-28e3-4ea1-92e1-b8889bd06594",
   "metadata": {},
   "outputs": [],
   "source": [
    "import pandas as pd\n",
    "import numpy as np"
   ]
  },
  {
   "cell_type": "code",
   "execution_count": 2,
   "id": "3afe78c1-40b9-4f67-be33-549d33e6d221",
   "metadata": {},
   "outputs": [],
   "source": [
    "column = ['A' , 'B' , 'C']\n",
    "index = [1, 3 , 5]"
   ]
  },
  {
   "cell_type": "code",
   "execution_count": 4,
   "id": "1beec523-51dd-4df6-a869-338066b8252c",
   "metadata": {},
   "outputs": [],
   "source": [
    "df = pd.DataFrame(np.random.rand(3,3),\n",
    "        columns = column, index = index)"
   ]
  },
  {
   "cell_type": "code",
   "execution_count": 5,
   "id": "fe76507f-1d73-4f04-98b5-df8b05ea0df6",
   "metadata": {},
   "outputs": [],
   "source": [
    "new_index = ['S' , 'H' , 'A']"
   ]
  },
  {
   "cell_type": "code",
   "execution_count": 6,
   "id": "7dca1a7a-296a-4cc0-96b8-6d2fb35b8abb",
   "metadata": {},
   "outputs": [
    {
     "name": "stdout",
     "output_type": "stream",
     "text": [
      "    A   B   C\n",
      "S NaN NaN NaN\n",
      "H NaN NaN NaN\n",
      "A NaN NaN NaN\n"
     ]
    }
   ],
   "source": [
    "print(df.reindex(new_index))"
   ]
  },
  {
   "cell_type": "code",
   "execution_count": null,
   "id": "f823d7a8-87ef-4f4d-9db1-df4777d851dd",
   "metadata": {},
   "outputs": [],
   "source": []
  },
  {
   "cell_type": "code",
   "execution_count": null,
   "id": "17f2a5f9-fa22-43a3-8cf6-45b77cd5242a",
   "metadata": {},
   "outputs": [],
   "source": [
    "Q3. Q3. You have a Pandas DataFrame df with a column named 'Values'. Write a Python function that\n",
    "iterates over the DataFrame and calculates the sum of the first three values in the 'Values' column. The\n",
    "function should print the sum to the console.\n",
    "For example, if the 'Values' column of df contains the values [10, 20, 30, 40, 50], your function should\n",
    "calculate and print the sum of the first three values, which is 60."
   ]
  },
  {
   "cell_type": "markdown",
   "id": "555a65a8-4068-43cf-a721-3aa63460e371",
   "metadata": {},
   "source": [
    "ANS - "
   ]
  },
  {
   "cell_type": "code",
   "execution_count": 41,
   "id": "4f859d2d-a481-4fa6-bad8-85e4b192cab4",
   "metadata": {},
   "outputs": [],
   "source": [
    "import pandas as pd\n",
    "import numpy as np\n",
    "import seaborn as sns"
   ]
  },
  {
   "cell_type": "code",
   "execution_count": 42,
   "id": "6306b461-31da-4967-9511-c62c12e15389",
   "metadata": {},
   "outputs": [],
   "source": [
    "df =[10, 20, 30, 40, 50]"
   ]
  },
  {
   "cell_type": "code",
   "execution_count": 43,
   "id": "c4abc857-bcc6-4baf-9c22-e014e2da81ba",
   "metadata": {},
   "outputs": [],
   "source": [
    "def sum_first_three_values(df):\n",
    "    total = df.iloc[0:3, df.columns.get_loc('Values')].sum()\n",
    "    print(total)"
   ]
  },
  {
   "cell_type": "code",
   "execution_count": 44,
   "id": "b924f2d0-53a2-4f83-8e2b-3ac5d4ad7e31",
   "metadata": {},
   "outputs": [
    {
     "data": {
      "text/plain": [
       "[10, 20, 30, 40, 50]"
      ]
     },
     "execution_count": 44,
     "metadata": {},
     "output_type": "execute_result"
    }
   ],
   "source": [
    "df"
   ]
  },
  {
   "cell_type": "code",
   "execution_count": null,
   "id": "f558d8ea-35f6-4267-ab3f-e062c73af3a2",
   "metadata": {},
   "outputs": [],
   "source": []
  },
  {
   "cell_type": "code",
   "execution_count": null,
   "id": "78181cfd-bee2-4747-add4-3da84a44cdb3",
   "metadata": {},
   "outputs": [],
   "source": [
    "Q4. Given a Pandas DataFrame df with a column 'Text', write a Python function to create a new column\n",
    "'Word_Count' that contains the number of words in each row of the 'Text' column."
   ]
  },
  {
   "cell_type": "markdown",
   "id": "f1d0d0cd-9f04-4371-a8d5-9273b4df957e",
   "metadata": {},
   "source": [
    "ANS - "
   ]
  },
  {
   "cell_type": "code",
   "execution_count": null,
   "id": "2d05fddb-a87f-4f31-8c36-af91cce66b68",
   "metadata": {},
   "outputs": [],
   "source": [
    "df['Word_Count'] = df['Text'].apply(lambda x: len(str(x).split(' ')))"
   ]
  },
  {
   "cell_type": "code",
   "execution_count": null,
   "id": "b4c17b85-5007-451f-9c8b-f6a76598b600",
   "metadata": {},
   "outputs": [],
   "source": []
  },
  {
   "cell_type": "code",
   "execution_count": null,
   "id": "5669c32c-7f07-40c1-955e-3455e125264f",
   "metadata": {},
   "outputs": [],
   "source": [
    "Q5. How are DataFrame.size() and DataFrame.shape() different?"
   ]
  },
  {
   "cell_type": "markdown",
   "id": "324f7675-c652-40b3-b37a-52d14b2e6748",
   "metadata": {},
   "source": [
    "ANS - "
   ]
  },
  {
   "cell_type": "code",
   "execution_count": null,
   "id": "97e832e7-a896-4533-b89b-cc87c3bf3208",
   "metadata": {},
   "outputs": [],
   "source": [
    "Size :size and shape of a dataframe in pandas python, size of a dataframe is the number of fields in the dataframe\n",
    "which is nothing but number of rows * numbers of columns. shape of a dataframe gets the number of rows and number\n",
    "of columns of the dataframe."
   ]
  },
  {
   "cell_type": "code",
   "execution_count": null,
   "id": "cfc6ee37-3e97-4f09-973e-5d5cccb15cdd",
   "metadata": {},
   "outputs": [],
   "source": []
  },
  {
   "cell_type": "code",
   "execution_count": null,
   "id": "3d97c39a-f880-4f7a-93d4-74b6784c84bf",
   "metadata": {},
   "outputs": [],
   "source": [
    "Q6. Which function of pandas do we use to read an excel file?"
   ]
  },
  {
   "cell_type": "markdown",
   "id": "d2faabce-5ada-4437-b688-99cf34a427c5",
   "metadata": {},
   "source": [
    "ANS -  "
   ]
  },
  {
   "cell_type": "code",
   "execution_count": null,
   "id": "4536b010-1281-47d1-970f-31fef2288716",
   "metadata": {},
   "outputs": [],
   "source": [
    "Pandas read_excel() function is used for reading the excel files. Files can be imported using a URL link\n",
    "or can be directly imported from the disk. There are different parameters like io for path.sheet_name\n",
    "for specifying the name of the sheet, tec. for reading the file.We can alos print specific columns using the usecols parameters.\n",
    "We can also read multiple sheets. We  can also print subsets of the data."
   ]
  },
  {
   "cell_type": "code",
   "execution_count": null,
   "id": "07cef3c5-2a20-4d9e-82ef-8c9d0d12bba6",
   "metadata": {},
   "outputs": [],
   "source": []
  },
  {
   "cell_type": "code",
   "execution_count": null,
   "id": "4f5a96b8-93e0-4edf-aeb3-eec5a0037cf7",
   "metadata": {},
   "outputs": [],
   "source": [
    "Q7. You have a Pandas DataFrame df that contains a column named 'Email' that contains email\n",
    "addresses in the format 'username@domain.com'. Write a Python function that creates a new column\n",
    "'Username' in df that contains only the username part of each email address.\n",
    "The username is the part of the email address that appears before the '@' symbol. For example, if the\n",
    "email address is 'john.doe@example.com', the 'Username' column should contain 'john.doe'. Your\n",
    "function should extract the username from each email address and store it in the new 'Username'\n",
    "column."
   ]
  },
  {
   "cell_type": "markdown",
   "id": "4c139094-86e6-4f20-b53b-d44db61db9d9",
   "metadata": {},
   "source": [
    "ANS - "
   ]
  },
  {
   "cell_type": "code",
   "execution_count": 18,
   "id": "131d1045-99ed-489d-9eef-d2984790f95c",
   "metadata": {},
   "outputs": [],
   "source": [
    "import pandas as pd"
   ]
  },
  {
   "cell_type": "code",
   "execution_count": 19,
   "id": "96482500-8a75-457f-8573-c17c2fed1ffe",
   "metadata": {},
   "outputs": [],
   "source": [
    "def extract_username(df):\n",
    "    df['Username'] = df['Email'].str.extract(r'(.*)@')\n",
    "    return df"
   ]
  },
  {
   "cell_type": "code",
   "execution_count": 20,
   "id": "50e975f3-6a1a-4057-9aa3-6998d70be406",
   "metadata": {},
   "outputs": [
    {
     "name": "stdout",
     "output_type": "stream",
     "text": [
      "                  Email   Username\n",
      "0  username1@domain.com  username1\n",
      "1  username2@domain.com  username2\n",
      "2  username3@domain.com  username3\n"
     ]
    }
   ],
   "source": [
    "df = pd.DataFrame({'Email': ['username1@domain.com', 'username2@domain.com', 'username3@domain.com']})\n",
    "df = extract_username(df)\n",
    "print(df)\n"
   ]
  },
  {
   "cell_type": "code",
   "execution_count": null,
   "id": "c43c0c9b-8542-4b85-9c7f-3588dbf5a0f9",
   "metadata": {},
   "outputs": [],
   "source": []
  },
  {
   "cell_type": "code",
   "execution_count": null,
   "id": "3162b8d2-c7a7-4ace-b443-f6542126a4c6",
   "metadata": {},
   "outputs": [],
   "source": [
    "Q8. You have a Pandas DataFrame df with columns 'A', 'B', and 'C'. Write a Python function that selects\n",
    "all rows where the value in column 'A' is greater than 5 and the value in column 'B' is less than 10. The\n",
    "function should return a new DataFrame that contains only the selected rows.\n",
    "For example, if df contains the following values:"
   ]
  },
  {
   "cell_type": "code",
   "execution_count": null,
   "id": "95aae04e-3272-44a4-bafc-2955c29683bf",
   "metadata": {},
   "outputs": [],
   "source": [
    "A B C\n",
    "0 3 5 1\n",
    "1 8 2 7\n",
    "2 6 9 4\n",
    "3 2 3 5\n",
    "4 9 1 2"
   ]
  },
  {
   "cell_type": "code",
   "execution_count": null,
   "id": "30db8e92-0f3b-4a7a-98c7-c7d19a43fa9b",
   "metadata": {},
   "outputs": [],
   "source": [
    "Your function should select the following rows: A B C"
   ]
  },
  {
   "cell_type": "code",
   "execution_count": null,
   "id": "1249c234-8791-4a0f-97ad-dd49caadf60a",
   "metadata": {},
   "outputs": [],
   "source": [
    "1 8 2 7\n",
    "4 9 1 2\n",
    "The function should return a new DataFrame that contains only the selected rows."
   ]
  },
  {
   "cell_type": "markdown",
   "id": "79e3b829-e3f9-4d85-86e0-da46ee4674a9",
   "metadata": {},
   "source": [
    "ANS - "
   ]
  },
  {
   "cell_type": "code",
   "execution_count": 60,
   "id": "3c15f6df-21e6-4676-ae22-91739b3a3229",
   "metadata": {},
   "outputs": [],
   "source": [
    "def select_rows(df):\n",
    "    return df[(df['A'] > 5) & (df['B'] < 10)]"
   ]
  },
  {
   "cell_type": "code",
   "execution_count": 61,
   "id": "1683c15e-211d-43c5-8ba6-45a51740f5e9",
   "metadata": {},
   "outputs": [
    {
     "name": "stdout",
     "output_type": "stream",
     "text": [
      "   A  B  C\n",
      "1  8  2  7\n",
      "2  6  9  4\n",
      "4  9  1  2\n"
     ]
    }
   ],
   "source": [
    "import pandas as pd\n",
    "\n",
    "df = pd.DataFrame({\n",
    "    'A': [3, 8, 6, 2, 9],\n",
    "    'B': [5, 2, 9, 3, 1],\n",
    "    'C': [1, 7, 4, 5, 2]\n",
    "})\n",
    "\n",
    "print(select_rows(df))"
   ]
  },
  {
   "cell_type": "code",
   "execution_count": null,
   "id": "496e2a4d-19f4-4b31-b6b8-7025da9a0564",
   "metadata": {},
   "outputs": [],
   "source": []
  },
  {
   "cell_type": "code",
   "execution_count": null,
   "id": "a162c1ff-c557-4b38-9e5c-e1e5ffb02c0c",
   "metadata": {},
   "outputs": [],
   "source": [
    "Q9. Given a Pandas DataFrame df with a column 'Values', write a Python function to calculate the mean,\n",
    "median, and standard deviation of the values in the 'Values' column."
   ]
  },
  {
   "cell_type": "markdown",
   "id": "0a7bcb8e-8a63-4c42-b49f-9f3fc0439e2d",
   "metadata": {},
   "source": [
    "ANS - "
   ]
  },
  {
   "cell_type": "code",
   "execution_count": 58,
   "id": "8c5cca3b-a861-404f-acfe-6167a9ffc9e3",
   "metadata": {},
   "outputs": [],
   "source": [
    "import pandas as pd\n",
    "\n",
    "def calculate_mean_median_std(df):\n",
    "    mean = df['Values'].mean()\n",
    "    median = df['Values'].median()\n",
    "    std = df['Values'].std()\n",
    "    return mean, median, std"
   ]
  },
  {
   "cell_type": "code",
   "execution_count": 59,
   "id": "36640062-93f0-4951-a6fe-495bf6ee21b3",
   "metadata": {},
   "outputs": [
    {
     "name": "stdout",
     "output_type": "stream",
     "text": [
      "Mean: 3.0, Median: 3.0, Standard Deviation: 1.5811388300841898\n"
     ]
    }
   ],
   "source": [
    "df = pd.DataFrame({'Values': [1, 2, 3, 4, 5]})\n",
    "mean, median, std = calculate_mean_median_std(df)\n",
    "print(f\"Mean: {mean}, Median: {median}, Standard Deviation: {std}\")"
   ]
  },
  {
   "cell_type": "code",
   "execution_count": null,
   "id": "31443160-25bb-40ae-a2e8-119ab44ddda7",
   "metadata": {},
   "outputs": [],
   "source": []
  },
  {
   "cell_type": "code",
   "execution_count": null,
   "id": "df8bc7b8-a5de-4ad8-9b61-c897f4a5e19d",
   "metadata": {},
   "outputs": [],
   "source": [
    "Q10. Given a Pandas DataFrame df with a column 'Sales' and a column 'Date', write a Python function to\n",
    "create a new column 'MovingAverage' that contains the moving average of the sales for the past 7 days\n",
    "for each row in the DataFrame. The moving average should be calculated using a window of size 7 and\n",
    "should include the current day."
   ]
  },
  {
   "cell_type": "markdown",
   "id": "853e9399-2105-4be2-9ad9-bb377302e5af",
   "metadata": {},
   "source": [
    "ANS -  "
   ]
  },
  {
   "cell_type": "code",
   "execution_count": 62,
   "id": "91918f2e-969c-4457-91fd-1fc53722914a",
   "metadata": {},
   "outputs": [],
   "source": [
    "import pandas as pd\n",
    "\n",
    "def add_moving_average_column(df):\n",
    "    df['MovingAverage'] = df['Sales'].rolling(window=7, min_periods=1).mean()\n",
    "    return (df)"
   ]
  },
  {
   "cell_type": "code",
   "execution_count": null,
   "id": "4604a841-7236-47b0-b062-4159e1150354",
   "metadata": {},
   "outputs": [],
   "source": []
  },
  {
   "cell_type": "code",
   "execution_count": null,
   "id": "e90fd2f2-8b81-48ff-b79e-5fcd9b151f13",
   "metadata": {},
   "outputs": [],
   "source": [
    "Q11. You have a Pandas DataFrame df with a column 'Date'. Write a Python function that creates a new\n",
    "column 'Weekday' in the DataFrame. The 'Weekday' column should contain the weekday name (e.g.\n",
    "Monday, Tuesday) corresponding to each date in the 'Date' column.\n",
    "For example, if df contains the following values:\n",
    "Date\n",
    "0 2023-01-01\n",
    "1 2023-01-02\n",
    "2 2023-01-03\n",
    "3 2023-01-04\n",
    "4 2023-01-05\n",
    "Your function should create the following DataFrame:\n",
    "\n",
    "Date Weekday\n",
    "0 2023-01-01 Sunday\n",
    "1 2023-01-02 Monday\n",
    "2 2023-01-03 Tuesday\n",
    "3 2023-01-04 Wednesday\n",
    "4 2023-01-05 Thursday\n",
    "The function should return the modified DataFrame."
   ]
  },
  {
   "cell_type": "markdown",
   "id": "457a9c10-a9a2-447d-a221-ad90bf40825e",
   "metadata": {},
   "source": [
    "ANS - "
   ]
  },
  {
   "cell_type": "code",
   "execution_count": 47,
   "id": "15a012b4-9d02-479b-bd62-e7e4c2a01b1e",
   "metadata": {},
   "outputs": [],
   "source": [
    "df = [\n",
    " 2023-0o1-0o1,\n",
    " 2023-0o1-0o2,\n",
    " 2023-0o1-0o3,\n",
    " 2023-0o1-0o4,\n",
    " 2023-0o1-0o5]"
   ]
  },
  {
   "cell_type": "code",
   "execution_count": 48,
   "id": "69b61775-211d-436e-924d-0b27da0eab53",
   "metadata": {},
   "outputs": [],
   "source": [
    "import pandas as pd\n",
    "\n",
    "def add_weekday_column(df):\n",
    "    df['weekday'] = pd.to_datetime(df['date']).dt.day_name()\n",
    "    return df\n"
   ]
  },
  {
   "cell_type": "code",
   "execution_count": 49,
   "id": "165b373e-5999-44b0-b826-5c53b6767517",
   "metadata": {},
   "outputs": [
    {
     "data": {
      "text/plain": [
       "[2021, 2020, 2019, 2018, 2017]"
      ]
     },
     "execution_count": 49,
     "metadata": {},
     "output_type": "execute_result"
    }
   ],
   "source": [
    "df"
   ]
  }
 ],
 "metadata": {
  "kernelspec": {
   "display_name": "Python 3 (ipykernel)",
   "language": "python",
   "name": "python3"
  },
  "language_info": {
   "codemirror_mode": {
    "name": "ipython",
    "version": 3
   },
   "file_extension": ".py",
   "mimetype": "text/x-python",
   "name": "python",
   "nbconvert_exporter": "python",
   "pygments_lexer": "ipython3",
   "version": "3.10.8"
  }
 },
 "nbformat": 4,
 "nbformat_minor": 5
}
